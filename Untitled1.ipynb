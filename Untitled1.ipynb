{
 "cells": [
  {
   "cell_type": "code",
   "execution_count": 1,
   "metadata": {
    "collapsed": true
   },
   "outputs": [],
   "source": [
    "import random\n",
    "from datetime import date\n",
    "import requests\n",
    "import pandas as pd\n",
    "import json"
   ]
  },
  {
   "cell_type": "code",
   "execution_count": 2,
   "metadata": {
    "collapsed": true
   },
   "outputs": [],
   "source": [
    "class episode(object):\n",
    "    r=requests.get('https://tw.rter.info/capi.php')\n",
    "    currency=r.json()\n",
    "    \"\"\"docstring for episode.\"\"\"\n",
    "    def __init__(self, arg):\n",
    "        #super(episode, self).__init__()\n",
    "        self.goal = self.getgoal()\n",
    "        self.request_slot = episode.request[self.goal]\n",
    "        self.start_date = None\n",
    "        self.comp_ind = None\n",
    "        self.inform_slots = self.slots_fill_in(self.start_date)\n",
    "\n",
    "    def getgoal(self):\n",
    "        return episode.user_goal[random.randint(0,len(episode.user_goal)-1)]\n",
    "\n",
    "    def slots_fill_in(self,start_date):\n",
    "        tmp = {}\n",
    "        tmplist = list(episode.slots[self.goal]) #list of dictionry keys\n",
    "        for slot in tmplist:\n",
    "            if slot in ['date','time_end','time_start']:\n",
    "                tmp[slot] = self.date_gen(self.start_date)\n",
    "                if slot == 'time_start':\n",
    "                    self.start_date = tmp[slot]\n",
    "            else:\n",
    "                j = random.randint(1,1000)%len(episode.slots[self.goal][slot])\n",
    "                if slot in ['symbol','company_name']:\n",
    "                    self.comp_ind = j if self.comp_ind is None else self.comp_ind\n",
    "                    j = self.comp_ind if self.comp_ind is not None else j\n",
    "                tmp[slot] = episode.slots[self.goal][slot][j]\n",
    "        return tmp\n",
    "\n",
    "    def dump(self):\n",
    "        tmp = {}\n",
    "        tmp['goal'] = self.goal\n",
    "        tmp['inform_slots'] = self.inform_slots\n",
    "        tmp['request_slot'] = self.request_slot\n",
    "        #json.dumps(tmp, default=json_util.default)\n",
    "        # print(\"{goal:\",self.goal,\"};\")\n",
    "        # print(\"{inform_slots:\")\n",
    "        # for key,val in self.inform_slots.items():\n",
    "        #     print(\"\\t{0}: {1}\".format(key,val))\n",
    "        # print(\"};\")\n",
    "        # print(\"{request_slot:\\n\",\"\\t{0}:{1}\\n\".format(self.request[0],self.request[1]),\"};\")\n",
    "    def date_gen(self,start_date):\n",
    "        start_date = self.start_date.toordinal() if self.start_date is not None else date.today().replace(day=1, month=1).toordinal()\n",
    "        end_date = date.today().toordinal()\n",
    "        random_day = date.fromordinal(random.randint(start_date, end_date))\n",
    "        return random_day\n",
    "# need real data \n",
    "    kick = ['COPPERHIGHGRADE', 'GOLD1OZ', 'PALLADIUM1OZ', 'PLATINUM1UZ999', 'SILVER1OZ999NY']\n",
    "    Country = []\n",
    "    for a in currency:\n",
    "        if a in kick:\n",
    "            continue\n",
    "        elif a == 'USD':\n",
    "            Country.append(a)\n",
    "            continue\n",
    "        elif a.replace('USD','') == '':\n",
    "            continue\n",
    "        Country.append(a.replace('USD','')) \n",
    "    \n",
    "    Money_name = [ 'USD', 'HKD', 'GBP', 'AUD', 'CAD', 'SGD', 'CHF', 'JPY', 'ZAR', 'SEK', 'NZD', 'THB', 'PHP', 'IDR', 'EUR', 'KRW', 'VND', 'MYR', 'CNY']\n",
    "\n",
    "    x = pd.read_csv('data/20170102/symbols.csv', delimiter = '\\t', names = ['fuck', 'you'])\n",
    "    company_name = x['you']\n",
    "    symbol = x['fuck']\n",
    "    field = ['date','open','high','low','close','volume','adj_close']     \n",
    "                    \n",
    "\n",
    "    user_goal = [\"Exchange\",\"Query\",\"Get_exchange_rate\",\"USDX\"]\n",
    "    \n",
    "    Exchange = {\"country1\":Country,\"country2\":Country}\n",
    "    Query = {\"symbol\":symbol,\"company_name\":company_name,\"date\":None,\"field\":field}\n",
    "    USDX = {\"time_start\":None,\"time_end\":None}\n",
    "    Get_exchange_rate = {\"Money_name\": Money_name, \"type\":[\"spot\",\"cash\"], \"action\":[\"buy\",\"sell\"]}\n",
    "    slots = {\"Exchange\":Exchange, \"Query\":Query, \"Get_exchange_rate\":Get_exchange_rate,\"USDX\":USDX}\n",
    "    \n",
    "    request = {\"Exchange\":(\"taiwan_rate\",\"UNK\"),\"Query\":(\"price_info\",\"UNK\"),\"Get_exchange_rate\":(\"ex_rate\",\"UNK\"),\"USDX\":(\"index\",\"UNK\")}"
   ]
  },
  {
   "cell_type": "code",
   "execution_count": 3,
   "metadata": {
    "collapsed": true
   },
   "outputs": [],
   "source": [
    "episode1 = episode(object)"
   ]
  },
  {
   "cell_type": "code",
   "execution_count": 13,
   "metadata": {},
   "outputs": [
    {
     "name": "stdout",
     "output_type": "stream",
     "text": [
      "None\n"
     ]
    }
   ],
   "source": [
    "print(episode1.inform_slots.get('x'))"
   ]
  },
  {
   "cell_type": "code",
   "execution_count": null,
   "metadata": {
    "collapsed": true
   },
   "outputs": [],
   "source": []
  }
 ],
 "metadata": {
  "kernelspec": {
   "display_name": "Python 3",
   "language": "python",
   "name": "python3"
  },
  "language_info": {
   "codemirror_mode": {
    "name": "ipython",
    "version": 3
   },
   "file_extension": ".py",
   "mimetype": "text/x-python",
   "name": "python",
   "nbconvert_exporter": "python",
   "pygments_lexer": "ipython3",
   "version": "3.6.1"
  }
 },
 "nbformat": 4,
 "nbformat_minor": 2
}

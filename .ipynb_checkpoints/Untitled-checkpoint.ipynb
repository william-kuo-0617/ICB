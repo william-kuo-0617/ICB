{
 "cells": [
  {
   "cell_type": "code",
   "execution_count": 1,
   "metadata": {},
   "outputs": [
    {
     "name": "stdout",
     "output_type": "stream",
     "text": [
      "{goal: Query };\n",
      "{inform_slots:\n",
      "\tsymbol: ATHM\n",
      "\tdate: 2017-01-09\n",
      "\tfield: high\n",
      "};\n",
      "{request_slot:\n",
      " \tprice_info:UNK\n",
      " };\n"
     ]
    }
   ],
   "source": [
    "import random\n",
    "from datetime import date\n",
    "import requests\n",
    "import pandas as pd\n",
    "#from __future__ import print_function\n",
    "\n",
    "class episode(object):\n",
    "    r=requests.get('https://tw.rter.info/capi.php')\n",
    "    currency=r.json()\n",
    "    \"\"\"docstring for episode.\"\"\"\n",
    "    def __init__(self, arg):\n",
    "        #super(episode, self).__init__()\n",
    "        self.goal = self.getgoal()\n",
    "        self.request = episode.request[self.goal]\n",
    "        self.start_date = None\n",
    "        self.inform_slots = self.slots_fill_in(self.start_date)\n",
    "        self.dump()\n",
    "\n",
    "    def getgoal(self):\n",
    "        return episode.user_goal[random.randint(0,len(episode.user_goal)-1)]\n",
    "\n",
    "    def slots_fill_in(self,start_date):\n",
    "        tmp = {}\n",
    "        tmplist = list(episode.slots[self.goal]) #list of dictionry keys\n",
    "        for slot in tmplist:\n",
    "            if slot in ['date','time_end','time_start']:\n",
    "                tmp[slot] = self.date_gen(self.start_date)\n",
    "                if slot == 'time_start':\n",
    "                    self.start_date = tmp[slot]\n",
    "            else:\n",
    "                j = random.randint(1,1000)%len(episode.slots[self.goal][slot])\n",
    "                tmp[slot] = episode.slots[self.goal][slot][j]\n",
    "        return tmp\n",
    "\n",
    "    def dump(self):\n",
    "        print(\"{goal:\",self.goal,\"};\")\n",
    "        print(\"{inform_slots:\")\n",
    "        for key,val in self.inform_slots.items():\n",
    "            print(\"\\t{0}: {1}\".format(key,val))\n",
    "        print(\"};\")\n",
    "        print(\"{request_slot:\\n\",\"\\t{0}:{1}\\n\".format(self.request[0],self.request[1]),\"};\")\n",
    "    def date_gen(self,start_date):\n",
    "        start_date = self.start_date.toordinal() if self.start_date is not None else date.today().replace(day=1, month=1).toordinal()\n",
    "        end_date = date.today().toordinal()\n",
    "        random_day = date.fromordinal(random.randint(start_date, end_date))\n",
    "        return random_day\n",
    "# need real data \n",
    "    #print(currency)\n",
    "    kick = ['COPPERHIGHGRADE', 'GOLD1OZ', 'PALLADIUM1OZ', 'PLATINUM1UZ999', 'SILVER1OZ999NY']\n",
    "    Country = []\n",
    "    for a in currency:\n",
    "        if a in kick:\n",
    "            continue\n",
    "        elif a == 'USD':\n",
    "            Country.append(a)\n",
    "            continue\n",
    "        elif a.replace('USD','') == '':\n",
    "            continue\n",
    "        Country.append(a.replace('USD','')) \n",
    "    Money_name = ['US dollar', 'Pound sterling', 'Japanese yen', 'Chinese yuan', 'Taiwan dollar']\n",
    "    x = pd.read_csv('data/20170102/symbols.csv', delimiter = '\\t', names = ['fuck', 'you'])\n",
    "    company_name = x['you']\n",
    "    symbol = x['fuck']\n",
    "    field = ['date','open','high','low','close','volume','adj_close']     \n",
    "                    \n",
    "\n",
    "    user_goal = [\"Exchange\",\"Query\",\"Get_exchange_rate\",\"USDX\"]\n",
    "    Exchange = {\"country1\":Country,\"country2\":Country}\n",
    "    Query = {\"symbol\":symbol,\"date\":None,\"field\":field}\n",
    "    USDX = {\"time_start\":None,\"time_end\":None}\n",
    "    Get_exchange_rate = {\"Money_name\": Money_name, \"type\":[\"spot\",\"cash\"], \"buy\":[0,1]}\n",
    "    slots = {\"Exchange\":Exchange, \"Query\":Query, \"Get_exchange_rate\":Get_exchange_rate,\"USDX\":USDX}\n",
    "    request = {\"Exchange\":(\"taiwan_rate\",\"UNK\"),\"Query\":(\"price_info\",\"UNK\"),\"Get_exchange_rate\":(\"ex_rate\",\"UNK\"),\"USDX\":(\"index\",\"UNK\")}\n",
    "\n",
    "    #diaact\n",
    "\n",
    "episode1 = episode(object)"
   ]
  },
  {
   "cell_type": "code",
   "execution_count": 8,
   "metadata": {},
   "outputs": [
    {
     "data": {
      "text/plain": [
       "'2017-01-09'"
      ]
     },
     "execution_count": 8,
     "metadata": {},
     "output_type": "execute_result"
    }
   ],
   "source": [
    "str(episode1.inform_slots['date'])"
   ]
  },
  {
   "cell_type": "code",
   "execution_count": 9,
   "metadata": {},
   "outputs": [
    {
     "name": "stdout",
     "output_type": "stream",
     "text": [
      "{goal: USDX };\n",
      "{inform_slots:\n",
      "\ttime_start: 2017-03-30\n",
      "\ttime_end: 2017-04-08\n",
      "};\n",
      "{request_slot:\n",
      " \tindex:UNK\n",
      " };\n"
     ]
    }
   ],
   "source": [
    "episode1 = episode(object)"
   ]
  },
  {
   "cell_type": "code",
   "execution_count": 10,
   "metadata": {},
   "outputs": [
    {
     "name": "stdout",
     "output_type": "stream",
     "text": [
      "{goal: Query };\n",
      "{inform_slots:\n",
      "\tsymbol: CLX\n",
      "\tdate: 2017-03-01\n",
      "\tfield: high\n",
      "};\n",
      "{request_slot:\n",
      " \tprice_info:UNK\n",
      " };\n"
     ]
    }
   ],
   "source": [
    "episode1 = episode(object)"
   ]
  },
  {
   "cell_type": "code",
   "execution_count": 11,
   "metadata": {},
   "outputs": [
    {
     "name": "stdout",
     "output_type": "stream",
     "text": [
      "{goal: Get_exchange_rate };\n",
      "{inform_slots:\n",
      "\tMoney_name: Chinese yuan\n",
      "\ttype: spot\n",
      "\tbuy: 1\n",
      "};\n",
      "{request_slot:\n",
      " \tex_rate:UNK\n",
      " };\n"
     ]
    }
   ],
   "source": [
    "episode1 = episode(object)"
   ]
  },
  {
   "cell_type": "code",
   "execution_count": 12,
   "metadata": {},
   "outputs": [
    {
     "name": "stdout",
     "output_type": "stream",
     "text": [
      "{goal: Exchange };\n",
      "{inform_slots:\n",
      "\tcountry1: FRF\n",
      "\tcountry2: MXV\n",
      "};\n",
      "{request_slot:\n",
      " \ttaiwan_rate:UNK\n",
      " };\n"
     ]
    }
   ],
   "source": [
    "episode1 = episode(object)"
   ]
  },
  {
   "cell_type": "code",
   "execution_count": 29,
   "metadata": {},
   "outputs": [
    {
     "name": "stdout",
     "output_type": "stream",
     "text": [
      "\"I’d like to know the exchange rate of \"+episode1.country1+\" to \"+episode1.country2+\"\n",
      "\"\n"
     ]
    }
   ],
   "source": [
    "if episode1.goal == 'Exchange':\n",
    "    init_temp = [\"Please give me the exchange rate of \"+episode1.inform_slots['country1']+\" to \"+episode1.inform_slots['episode1.inform_slots['country1']+\"\\n\",'\"I’d like to know the exchange rate of \"+episode1.inform_slots['country1']+\" to \"+episode1.country2+\"\\n\"']\n",
    "    print(random.choice(init_temp))"
   ]
  },
  {
   "cell_type": "code",
   "execution_count": null,
   "metadata": {
    "collapsed": true
   },
   "outputs": [],
   "source": []
  }
 ],
 "metadata": {
  "kernelspec": {
   "display_name": "Python 3",
   "language": "python",
   "name": "python3"
  },
  "language_info": {
   "codemirror_mode": {
    "name": "ipython",
    "version": 3
   },
   "file_extension": ".py",
   "mimetype": "text/x-python",
   "name": "python",
   "nbconvert_exporter": "python",
   "pygments_lexer": "ipython3",
   "version": "3.6.1"
  }
 },
 "nbformat": 4,
 "nbformat_minor": 2
}
